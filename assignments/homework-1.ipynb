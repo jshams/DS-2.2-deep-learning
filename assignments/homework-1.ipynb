{
 "cells": [
  {
   "cell_type": "markdown",
   "metadata": {},
   "source": [
    "## Homework 1:\n",
    "\n",
    "1- Build a Keras Model for linear regression (check: https://keras.io/activations/ ). Use Boston Housing Dataset to train and test your model\n",
    "\n",
    "2- Build a Keras Model for logistic regression. Use diabetes.csv to train and test\n",
    "\n",
    "Comments:\n",
    "\n",
    "1- Build the **simplest model** for linear regression with Keras and compare your model performance with `from sklearn.linear_model import LinearRegression`\n",
    "\n",
    "2- Build the **simplest model** for logistic regression with Keras and compare your model performance with `from sklearn.linear_model import LogisticRegression`\n",
    "\n",
    "3- **Add more complexity to your models in (1) and (2)** and compare with previous results"
   ]
  },
  {
   "cell_type": "markdown",
   "metadata": {},
   "source": [
    "## Imports"
   ]
  },
  {
   "cell_type": "code",
   "execution_count": 29,
   "metadata": {},
   "outputs": [],
   "source": [
    "# gets rid of warning to make the notebook cleaner\n",
    "import warnings\n",
    "warnings.filterwarnings(\"ignore\")"
   ]
  },
  {
   "cell_type": "code",
   "execution_count": 2,
   "metadata": {},
   "outputs": [],
   "source": [
    "import numpy as np\n",
    "import pandas as pd\n",
    "import matplotlib.pyplot as plt\n",
    "import seaborn as sns"
   ]
  },
  {
   "cell_type": "code",
   "execution_count": 3,
   "metadata": {},
   "outputs": [],
   "source": [
    "from sklearn.model_selection import train_test_split\n",
    "from sklearn.preprocessing import StandardScaler\n",
    "from sklearn.linear_model import LinearRegression\n",
    "from sklearn.linear_model import LogisticRegression\n",
    "from sklearn.metrics import mean_squared_error, accuracy_score"
   ]
  },
  {
   "cell_type": "code",
   "execution_count": 4,
   "metadata": {},
   "outputs": [],
   "source": [
    "from tensorflow.nn import softmax, sigmoid"
   ]
  },
  {
   "cell_type": "code",
   "execution_count": 22,
   "metadata": {},
   "outputs": [],
   "source": [
    "from keras.models import Sequential\n",
    "from keras.layers import Dense, Flatten\n",
    "from keras.optimizers import SGD"
   ]
  },
  {
   "cell_type": "markdown",
   "metadata": {},
   "source": [
    "### Pt 1: Keras Sequential Model with Boston Housing Dataset"
   ]
  },
  {
   "cell_type": "markdown",
   "metadata": {},
   "source": [
    "## Load Boston"
   ]
  },
  {
   "cell_type": "code",
   "execution_count": 6,
   "metadata": {},
   "outputs": [],
   "source": [
    "from sklearn.datasets import load_boston"
   ]
  },
  {
   "cell_type": "code",
   "execution_count": 7,
   "metadata": {},
   "outputs": [
    {
     "data": {
      "text/html": [
       "<div>\n",
       "<style scoped>\n",
       "    .dataframe tbody tr th:only-of-type {\n",
       "        vertical-align: middle;\n",
       "    }\n",
       "\n",
       "    .dataframe tbody tr th {\n",
       "        vertical-align: top;\n",
       "    }\n",
       "\n",
       "    .dataframe thead th {\n",
       "        text-align: right;\n",
       "    }\n",
       "</style>\n",
       "<table border=\"1\" class=\"dataframe\">\n",
       "  <thead>\n",
       "    <tr style=\"text-align: right;\">\n",
       "      <th></th>\n",
       "      <th>CRIM</th>\n",
       "      <th>ZN</th>\n",
       "      <th>INDUS</th>\n",
       "      <th>CHAS</th>\n",
       "      <th>NOX</th>\n",
       "      <th>RM</th>\n",
       "      <th>AGE</th>\n",
       "      <th>DIS</th>\n",
       "      <th>RAD</th>\n",
       "      <th>TAX</th>\n",
       "      <th>PTRATIO</th>\n",
       "      <th>B</th>\n",
       "      <th>LSTAT</th>\n",
       "    </tr>\n",
       "  </thead>\n",
       "  <tbody>\n",
       "    <tr>\n",
       "      <th>0</th>\n",
       "      <td>0.00632</td>\n",
       "      <td>18.0</td>\n",
       "      <td>2.31</td>\n",
       "      <td>0.0</td>\n",
       "      <td>0.538</td>\n",
       "      <td>6.575</td>\n",
       "      <td>65.2</td>\n",
       "      <td>4.0900</td>\n",
       "      <td>1.0</td>\n",
       "      <td>296.0</td>\n",
       "      <td>15.3</td>\n",
       "      <td>396.90</td>\n",
       "      <td>4.98</td>\n",
       "    </tr>\n",
       "    <tr>\n",
       "      <th>1</th>\n",
       "      <td>0.02731</td>\n",
       "      <td>0.0</td>\n",
       "      <td>7.07</td>\n",
       "      <td>0.0</td>\n",
       "      <td>0.469</td>\n",
       "      <td>6.421</td>\n",
       "      <td>78.9</td>\n",
       "      <td>4.9671</td>\n",
       "      <td>2.0</td>\n",
       "      <td>242.0</td>\n",
       "      <td>17.8</td>\n",
       "      <td>396.90</td>\n",
       "      <td>9.14</td>\n",
       "    </tr>\n",
       "    <tr>\n",
       "      <th>2</th>\n",
       "      <td>0.02729</td>\n",
       "      <td>0.0</td>\n",
       "      <td>7.07</td>\n",
       "      <td>0.0</td>\n",
       "      <td>0.469</td>\n",
       "      <td>7.185</td>\n",
       "      <td>61.1</td>\n",
       "      <td>4.9671</td>\n",
       "      <td>2.0</td>\n",
       "      <td>242.0</td>\n",
       "      <td>17.8</td>\n",
       "      <td>392.83</td>\n",
       "      <td>4.03</td>\n",
       "    </tr>\n",
       "    <tr>\n",
       "      <th>3</th>\n",
       "      <td>0.03237</td>\n",
       "      <td>0.0</td>\n",
       "      <td>2.18</td>\n",
       "      <td>0.0</td>\n",
       "      <td>0.458</td>\n",
       "      <td>6.998</td>\n",
       "      <td>45.8</td>\n",
       "      <td>6.0622</td>\n",
       "      <td>3.0</td>\n",
       "      <td>222.0</td>\n",
       "      <td>18.7</td>\n",
       "      <td>394.63</td>\n",
       "      <td>2.94</td>\n",
       "    </tr>\n",
       "    <tr>\n",
       "      <th>4</th>\n",
       "      <td>0.06905</td>\n",
       "      <td>0.0</td>\n",
       "      <td>2.18</td>\n",
       "      <td>0.0</td>\n",
       "      <td>0.458</td>\n",
       "      <td>7.147</td>\n",
       "      <td>54.2</td>\n",
       "      <td>6.0622</td>\n",
       "      <td>3.0</td>\n",
       "      <td>222.0</td>\n",
       "      <td>18.7</td>\n",
       "      <td>396.90</td>\n",
       "      <td>5.33</td>\n",
       "    </tr>\n",
       "  </tbody>\n",
       "</table>\n",
       "</div>"
      ],
      "text/plain": [
       "      CRIM    ZN  INDUS  CHAS    NOX     RM   AGE     DIS  RAD    TAX  \\\n",
       "0  0.00632  18.0   2.31   0.0  0.538  6.575  65.2  4.0900  1.0  296.0   \n",
       "1  0.02731   0.0   7.07   0.0  0.469  6.421  78.9  4.9671  2.0  242.0   \n",
       "2  0.02729   0.0   7.07   0.0  0.469  7.185  61.1  4.9671  2.0  242.0   \n",
       "3  0.03237   0.0   2.18   0.0  0.458  6.998  45.8  6.0622  3.0  222.0   \n",
       "4  0.06905   0.0   2.18   0.0  0.458  7.147  54.2  6.0622  3.0  222.0   \n",
       "\n",
       "   PTRATIO       B  LSTAT  \n",
       "0     15.3  396.90   4.98  \n",
       "1     17.8  396.90   9.14  \n",
       "2     17.8  392.83   4.03  \n",
       "3     18.7  394.63   2.94  \n",
       "4     18.7  396.90   5.33  "
      ]
     },
     "execution_count": 7,
     "metadata": {},
     "output_type": "execute_result"
    }
   ],
   "source": [
    "boston = load_boston()\n",
    "bos_df = pd.DataFrame(boston.data, columns=boston.feature_names)\n",
    "bos_df.head()"
   ]
  },
  {
   "cell_type": "markdown",
   "metadata": {},
   "source": [
    "## Split up the Boston data"
   ]
  },
  {
   "cell_type": "code",
   "execution_count": 8,
   "metadata": {},
   "outputs": [],
   "source": [
    "x = boston.data\n",
    "y = boston.target\n",
    "\n",
    "x_train, x_test, y_train, y_test = train_test_split(x, y, test_size = 0.33, random_state = 5)"
   ]
  },
  {
   "cell_type": "markdown",
   "metadata": {},
   "source": [
    "## Scale the data"
   ]
  },
  {
   "cell_type": "code",
   "execution_count": 9,
   "metadata": {},
   "outputs": [],
   "source": [
    "scaler = StandardScaler()\n",
    "scaler.fit(x_train)\n",
    "x_train_scaled = scaler.transform(x_train)\n",
    "x_test_scaled = scaler.transform(x_test)"
   ]
  },
  {
   "cell_type": "markdown",
   "metadata": {},
   "source": [
    "## Create a Sequential Kerras model "
   ]
  },
  {
   "cell_type": "code",
   "execution_count": 10,
   "metadata": {},
   "outputs": [],
   "source": [
    "model = Sequential()\n",
    "\n",
    "model.add(Dense(50, activation='relu'))\n",
    "model.add(Dense(100, activation='relu'))\n",
    "model.add(Dense(50, activation='relu'))\n",
    "model.add(Dense(1))\n",
    "\n",
    "model.compile(loss='mse', optimizer='adam')"
   ]
  },
  {
   "cell_type": "markdown",
   "metadata": {},
   "source": [
    "### Train model on training data using model.fit for 12 epochs"
   ]
  },
  {
   "cell_type": "code",
   "execution_count": 11,
   "metadata": {},
   "outputs": [
    {
     "name": "stdout",
     "output_type": "stream",
     "text": [
      "Epoch 1/12\n",
      " - 0s - loss: 564.5630\n",
      "Epoch 2/12\n",
      " - 0s - loss: 491.9431\n",
      "Epoch 3/12\n",
      " - 0s - loss: 372.8684\n",
      "Epoch 4/12\n",
      " - 0s - loss: 202.1956\n",
      "Epoch 5/12\n",
      " - 0s - loss: 76.9133\n",
      "Epoch 6/12\n",
      " - 0s - loss: 60.5734\n",
      "Epoch 7/12\n",
      " - 0s - loss: 39.7908\n",
      "Epoch 8/12\n",
      " - 0s - loss: 32.1809\n",
      "Epoch 9/12\n",
      " - 0s - loss: 27.0840\n",
      "Epoch 10/12\n",
      " - 0s - loss: 24.7710\n",
      "Epoch 11/12\n",
      " - 0s - loss: 22.4711\n",
      "Epoch 12/12\n",
      " - 0s - loss: 21.0110\n"
     ]
    }
   ],
   "source": [
    "# Train the model\n",
    "history = model.fit(\n",
    "    x_train_scaled,\n",
    "    y_train,\n",
    "    epochs=12,\n",
    "    shuffle=True,\n",
    "    verbose=2\n",
    ")"
   ]
  },
  {
   "cell_type": "markdown",
   "metadata": {},
   "source": [
    "### Determine loss function, optimizer and metrics for the model"
   ]
  },
  {
   "cell_type": "code",
   "execution_count": 12,
   "metadata": {},
   "outputs": [
    {
     "data": {
      "image/png": "[encoded data removed]",
      "text/plain": [
       "<Figure size 432x288 with 1 Axes>"
      ]
     },
     "metadata": {
      "needs_background": "light"
     },
     "output_type": "display_data"
    }
   ],
   "source": [
    "plt.plot(history.history['loss'])\n",
    "plt.title('model loss by epoch')\n",
    "plt.xlabel('epoch')\n",
    "plt.ylabel('loss')\n",
    "plt.legend(['train', 'test'], loc='upper left')\n",
    "\n",
    "plt.show()"
   ]
  },
  {
   "cell_type": "code",
   "execution_count": 13,
   "metadata": {},
   "outputs": [
    {
     "data": {
      "text/plain": [
       "28.42249706723854"
      ]
     },
     "execution_count": 13,
     "metadata": {},
     "output_type": "execute_result"
    }
   ],
   "source": [
    "y_pred = model.predict(x_test_scaled)\n",
    "mean_squared_error(y_test, y_pred)"
   ]
  },
  {
   "cell_type": "markdown",
   "metadata": {},
   "source": [
    "## Create a linear regression model"
   ]
  },
  {
   "cell_type": "code",
   "execution_count": 14,
   "metadata": {},
   "outputs": [
    {
     "data": {
      "text/plain": [
       "28.53045876597462"
      ]
     },
     "execution_count": 14,
     "metadata": {},
     "output_type": "execute_result"
    }
   ],
   "source": [
    "linreg = LinearRegression()\n",
    "linreg.fit(x_train_scaled, y_train)\n",
    "y_pred = linreg.predict(x_test_scaled)\n",
    "mean_squared_error(y_test, y_pred)"
   ]
  },
  {
   "cell_type": "markdown",
   "metadata": {},
   "source": [
    "#### Compare results of Sequential model to linear regression model:\n",
    "- The sequential model works better when it has more than 12 epochs\n",
    "- The mean squared error of both models are pretty similar"
   ]
  },
  {
   "cell_type": "markdown",
   "metadata": {},
   "source": [
    "## Pt 2: Keras Sequential Model with Diabetes Dataset"
   ]
  },
  {
   "cell_type": "code",
   "execution_count": 15,
   "metadata": {},
   "outputs": [],
   "source": [
    "diabetes_df = pd.read_csv('datasets/diabetes.csv')"
   ]
  },
  {
   "cell_type": "code",
   "execution_count": 26,
   "metadata": {},
   "outputs": [
    {
     "data": {
      "text/html": [
       "<div>\n",
       "<style scoped>\n",
       "    .dataframe tbody tr th:only-of-type {\n",
       "        vertical-align: middle;\n",
       "    }\n",
       "\n",
       "    .dataframe tbody tr th {\n",
       "        vertical-align: top;\n",
       "    }\n",
       "\n",
       "    .dataframe thead th {\n",
       "        text-align: right;\n",
       "    }\n",
       "</style>\n",
       "<table border=\"1\" class=\"dataframe\">\n",
       "  <thead>\n",
       "    <tr style=\"text-align: right;\">\n",
       "      <th></th>\n",
       "      <th>Pregnancies</th>\n",
       "      <th>Glucose</th>\n",
       "      <th>BloodPressure</th>\n",
       "      <th>SkinThickness</th>\n",
       "      <th>Insulin</th>\n",
       "      <th>BMI</th>\n",
       "      <th>DiabetesPedigreeFunction</th>\n",
       "      <th>Age</th>\n",
       "      <th>Outcome</th>\n",
       "    </tr>\n",
       "  </thead>\n",
       "  <tbody>\n",
       "    <tr>\n",
       "      <th>0</th>\n",
       "      <td>6</td>\n",
       "      <td>148</td>\n",
       "      <td>72</td>\n",
       "      <td>35</td>\n",
       "      <td>0</td>\n",
       "      <td>33.6</td>\n",
       "      <td>0.627</td>\n",
       "      <td>50</td>\n",
       "      <td>1</td>\n",
       "    </tr>\n",
       "    <tr>\n",
       "      <th>1</th>\n",
       "      <td>1</td>\n",
       "      <td>85</td>\n",
       "      <td>66</td>\n",
       "      <td>29</td>\n",
       "      <td>0</td>\n",
       "      <td>26.6</td>\n",
       "      <td>0.351</td>\n",
       "      <td>31</td>\n",
       "      <td>0</td>\n",
       "    </tr>\n",
       "    <tr>\n",
       "      <th>2</th>\n",
       "      <td>8</td>\n",
       "      <td>183</td>\n",
       "      <td>64</td>\n",
       "      <td>0</td>\n",
       "      <td>0</td>\n",
       "      <td>23.3</td>\n",
       "      <td>0.672</td>\n",
       "      <td>32</td>\n",
       "      <td>1</td>\n",
       "    </tr>\n",
       "    <tr>\n",
       "      <th>3</th>\n",
       "      <td>1</td>\n",
       "      <td>89</td>\n",
       "      <td>66</td>\n",
       "      <td>23</td>\n",
       "      <td>94</td>\n",
       "      <td>28.1</td>\n",
       "      <td>0.167</td>\n",
       "      <td>21</td>\n",
       "      <td>0</td>\n",
       "    </tr>\n",
       "    <tr>\n",
       "      <th>4</th>\n",
       "      <td>0</td>\n",
       "      <td>137</td>\n",
       "      <td>40</td>\n",
       "      <td>35</td>\n",
       "      <td>168</td>\n",
       "      <td>43.1</td>\n",
       "      <td>2.288</td>\n",
       "      <td>33</td>\n",
       "      <td>1</td>\n",
       "    </tr>\n",
       "  </tbody>\n",
       "</table>\n",
       "</div>"
      ],
      "text/plain": [
       "   Pregnancies  Glucose  BloodPressure  SkinThickness  Insulin   BMI  \\\n",
       "0            6      148             72             35        0  33.6   \n",
       "1            1       85             66             29        0  26.6   \n",
       "2            8      183             64              0        0  23.3   \n",
       "3            1       89             66             23       94  28.1   \n",
       "4            0      137             40             35      168  43.1   \n",
       "\n",
       "   DiabetesPedigreeFunction  Age  Outcome  \n",
       "0                     0.627   50        1  \n",
       "1                     0.351   31        0  \n",
       "2                     0.672   32        1  \n",
       "3                     0.167   21        0  \n",
       "4                     2.288   33        1  "
      ]
     },
     "execution_count": 26,
     "metadata": {},
     "output_type": "execute_result"
    }
   ],
   "source": [
    "diabetes_df.head()"
   ]
  },
  {
   "cell_type": "code",
   "execution_count": 30,
   "metadata": {},
   "outputs": [],
   "source": [
    "x = diabetes_df.drop(['Outcome'], axis=1)\n",
    "y = diabetes_df['Outcome']\n",
    "x_scale = StandardScaler(x)\n",
    "\n",
    "scaler = StandardScaler()\n",
    "scaler.fit(x)\n",
    "x_scaled = scaler.transform(x)\n",
    "\n",
    "x_train, x_test, y_train, y_test = train_test_split(x_scaled, y, test_size = 0.25, random_state = 5)"
   ]
  },
  {
   "cell_type": "markdown",
   "metadata": {},
   "source": [
    "## Create a Sequential Kerras model "
   ]
  },
  {
   "cell_type": "code",
   "execution_count": 18,
   "metadata": {},
   "outputs": [],
   "source": [
    "model = Sequential([\n",
    "                Dense(8, activation=sigmoid),\n",
    "#                 Dense(16, activation=softmax),\n",
    "#                 Dense(2, activation=softmax)\n",
    "])\n",
    "\n",
    "model.compile(optimizer='sgd',loss='sparse_categorical_crossentropy', metrics =['accuracy'])"
   ]
  },
  {
   "cell_type": "markdown",
   "metadata": {},
   "source": [
    "### Train model on training data using model.fit for 12 epochs"
   ]
  },
  {
   "cell_type": "code",
   "execution_count": 19,
   "metadata": {},
   "outputs": [
    {
     "name": "stdout",
     "output_type": "stream",
     "text": [
      "Epoch 1/75\n",
      "576/576 [==============================] - 0s 171us/step - loss: 2.0257 - acc: 0.2448\n",
      "Epoch 2/75\n",
      "576/576 [==============================] - 0s 14us/step - loss: 2.0061 - acc: 0.2743\n",
      "Epoch 3/75\n",
      "576/576 [==============================] - 0s 17us/step - loss: 1.9876 - acc: 0.2986\n",
      "Epoch 4/75\n",
      "576/576 [==============================] - 0s 16us/step - loss: 1.9700 - acc: 0.3125\n",
      "Epoch 5/75\n",
      "576/576 [==============================] - 0s 18us/step - loss: 1.9533 - acc: 0.3385\n",
      "Epoch 6/75\n",
      "576/576 [==============================] - 0s 18us/step - loss: 1.9374 - acc: 0.3611\n",
      "Epoch 7/75\n",
      "576/576 [==============================] - 0s 18us/step - loss: 1.9222 - acc: 0.3854\n",
      "Epoch 8/75\n",
      "576/576 [==============================] - 0s 18us/step - loss: 1.9076 - acc: 0.3941\n",
      "Epoch 9/75\n",
      "576/576 [==============================] - 0s 18us/step - loss: 1.8937 - acc: 0.4167\n",
      "Epoch 10/75\n",
      "576/576 [==============================] - 0s 19us/step - loss: 1.8803 - acc: 0.4253\n",
      "Epoch 11/75\n",
      "576/576 [==============================] - 0s 25us/step - loss: 1.8675 - acc: 0.4444\n",
      "Epoch 12/75\n",
      "576/576 [==============================] - 0s 26us/step - loss: 1.8552 - acc: 0.4549\n",
      "Epoch 13/75\n",
      "576/576 [==============================] - 0s 26us/step - loss: 1.8433 - acc: 0.4653\n",
      "Epoch 14/75\n",
      "576/576 [==============================] - 0s 21us/step - loss: 1.8318 - acc: 0.4826\n",
      "Epoch 15/75\n",
      "576/576 [==============================] - 0s 20us/step - loss: 1.8207 - acc: 0.4965\n",
      "Epoch 16/75\n",
      "576/576 [==============================] - 0s 20us/step - loss: 1.8100 - acc: 0.5104\n",
      "Epoch 17/75\n",
      "576/576 [==============================] - 0s 21us/step - loss: 1.7996 - acc: 0.5174\n",
      "Epoch 18/75\n",
      "576/576 [==============================] - 0s 23us/step - loss: 1.7895 - acc: 0.5312\n",
      "Epoch 19/75\n",
      "576/576 [==============================] - 0s 23us/step - loss: 1.7797 - acc: 0.5365\n",
      "Epoch 20/75\n",
      "576/576 [==============================] - 0s 23us/step - loss: 1.7702 - acc: 0.5503\n",
      "Epoch 21/75\n",
      "576/576 [==============================] - 0s 21us/step - loss: 1.7610 - acc: 0.5660\n",
      "Epoch 22/75\n",
      "576/576 [==============================] - 0s 20us/step - loss: 1.7520 - acc: 0.5729\n",
      "Epoch 23/75\n",
      "576/576 [==============================] - 0s 22us/step - loss: 1.7432 - acc: 0.5764\n",
      "Epoch 24/75\n",
      "576/576 [==============================] - 0s 20us/step - loss: 1.7346 - acc: 0.5851\n",
      "Epoch 25/75\n",
      "576/576 [==============================] - 0s 20us/step - loss: 1.7262 - acc: 0.6042\n",
      "Epoch 26/75\n",
      "576/576 [==============================] - 0s 20us/step - loss: 1.7180 - acc: 0.6111\n",
      "Epoch 27/75\n",
      "576/576 [==============================] - 0s 19us/step - loss: 1.7100 - acc: 0.6163\n",
      "Epoch 28/75\n",
      "576/576 [==============================] - 0s 18us/step - loss: 1.7022 - acc: 0.6198\n",
      "Epoch 29/75\n",
      "576/576 [==============================] - 0s 19us/step - loss: 1.6945 - acc: 0.6302\n",
      "Epoch 30/75\n",
      "576/576 [==============================] - 0s 21us/step - loss: 1.6870 - acc: 0.6389\n",
      "Epoch 31/75\n",
      "576/576 [==============================] - 0s 19us/step - loss: 1.6796 - acc: 0.6424\n",
      "Epoch 32/75\n",
      "576/576 [==============================] - 0s 21us/step - loss: 1.6724 - acc: 0.6528\n",
      "Epoch 33/75\n",
      "576/576 [==============================] - 0s 21us/step - loss: 1.6652 - acc: 0.6545\n",
      "Epoch 34/75\n",
      "576/576 [==============================] - 0s 19us/step - loss: 1.6583 - acc: 0.6597\n",
      "Epoch 35/75\n",
      "576/576 [==============================] - 0s 19us/step - loss: 1.6514 - acc: 0.6701\n",
      "Epoch 36/75\n",
      "576/576 [==============================] - 0s 20us/step - loss: 1.6446 - acc: 0.6719\n",
      "Epoch 37/75\n",
      "576/576 [==============================] - 0s 23us/step - loss: 1.6379 - acc: 0.6753\n",
      "Epoch 38/75\n",
      "576/576 [==============================] - 0s 18us/step - loss: 1.6313 - acc: 0.6771\n",
      "Epoch 39/75\n",
      "576/576 [==============================] - 0s 19us/step - loss: 1.6249 - acc: 0.6771\n",
      "Epoch 40/75\n",
      "576/576 [==============================] - 0s 18us/step - loss: 1.6185 - acc: 0.6892\n",
      "Epoch 41/75\n",
      "576/576 [==============================] - 0s 18us/step - loss: 1.6122 - acc: 0.6962\n",
      "Epoch 42/75\n",
      "576/576 [==============================] - 0s 17us/step - loss: 1.6059 - acc: 0.6997\n",
      "Epoch 43/75\n",
      "576/576 [==============================] - 0s 19us/step - loss: 1.5998 - acc: 0.7049\n",
      "Epoch 44/75\n",
      "576/576 [==============================] - 0s 19us/step - loss: 1.5937 - acc: 0.7049\n",
      "Epoch 45/75\n",
      "576/576 [==============================] - 0s 18us/step - loss: 1.5877 - acc: 0.7083\n",
      "Epoch 46/75\n",
      "576/576 [==============================] - 0s 19us/step - loss: 1.5818 - acc: 0.7101\n",
      "Epoch 47/75\n",
      "576/576 [==============================] - 0s 19us/step - loss: 1.5759 - acc: 0.7101\n",
      "Epoch 48/75\n",
      "576/576 [==============================] - 0s 18us/step - loss: 1.5701 - acc: 0.7135\n",
      "Epoch 49/75\n",
      "576/576 [==============================] - 0s 17us/step - loss: 1.5643 - acc: 0.7153\n",
      "Epoch 50/75\n",
      "576/576 [==============================] - 0s 18us/step - loss: 1.5586 - acc: 0.7188\n",
      "Epoch 51/75\n",
      "576/576 [==============================] - 0s 20us/step - loss: 1.5529 - acc: 0.7188\n",
      "Epoch 52/75\n",
      "576/576 [==============================] - 0s 18us/step - loss: 1.5473 - acc: 0.7222\n",
      "Epoch 53/75\n",
      "576/576 [==============================] - 0s 19us/step - loss: 1.5418 - acc: 0.7257\n",
      "Epoch 54/75\n",
      "576/576 [==============================] - 0s 18us/step - loss: 1.5362 - acc: 0.7257\n",
      "Epoch 55/75\n",
      "576/576 [==============================] - 0s 18us/step - loss: 1.5308 - acc: 0.7292\n",
      "Epoch 56/75\n",
      "576/576 [==============================] - 0s 19us/step - loss: 1.5253 - acc: 0.7292\n",
      "Epoch 57/75\n",
      "576/576 [==============================] - 0s 18us/step - loss: 1.5199 - acc: 0.7309\n",
      "Epoch 58/75\n",
      "576/576 [==============================] - 0s 19us/step - loss: 1.5146 - acc: 0.7326\n",
      "Epoch 59/75\n",
      "576/576 [==============================] - 0s 18us/step - loss: 1.5093 - acc: 0.7378\n",
      "Epoch 60/75\n",
      "576/576 [==============================] - 0s 23us/step - loss: 1.5040 - acc: 0.7396\n",
      "Epoch 61/75\n",
      "576/576 [==============================] - 0s 24us/step - loss: 1.4988 - acc: 0.7413\n",
      "Epoch 62/75\n",
      "576/576 [==============================] - 0s 20us/step - loss: 1.4935 - acc: 0.7413\n",
      "Epoch 63/75\n",
      "576/576 [==============================] - 0s 24us/step - loss: 1.4884 - acc: 0.7448\n",
      "Epoch 64/75\n",
      "576/576 [==============================] - 0s 22us/step - loss: 1.4832 - acc: 0.7448\n",
      "Epoch 65/75\n",
      "576/576 [==============================] - 0s 19us/step - loss: 1.4781 - acc: 0.7465\n",
      "Epoch 66/75\n",
      "576/576 [==============================] - 0s 21us/step - loss: 1.4730 - acc: 0.7465\n",
      "Epoch 67/75\n",
      "576/576 [==============================] - 0s 22us/step - loss: 1.4679 - acc: 0.7483\n",
      "Epoch 68/75\n",
      "576/576 [==============================] - 0s 20us/step - loss: 1.4629 - acc: 0.7483\n",
      "Epoch 69/75\n",
      "576/576 [==============================] - 0s 21us/step - loss: 1.4578 - acc: 0.7483\n",
      "Epoch 70/75\n",
      "576/576 [==============================] - 0s 21us/step - loss: 1.4528 - acc: 0.7483\n",
      "Epoch 71/75\n",
      "576/576 [==============================] - 0s 22us/step - loss: 1.4479 - acc: 0.7500\n",
      "Epoch 72/75\n",
      "576/576 [==============================] - 0s 21us/step - loss: 1.4429 - acc: 0.7500\n",
      "Epoch 73/75\n",
      "576/576 [==============================] - 0s 20us/step - loss: 1.4380 - acc: 0.7500\n",
      "Epoch 74/75\n",
      "576/576 [==============================] - 0s 19us/step - loss: 1.4331 - acc: 0.7535\n",
      "Epoch 75/75\n",
      "576/576 [==============================] - 0s 20us/step - loss: 1.4282 - acc: 0.7535\n"
     ]
    }
   ],
   "source": [
    "# Train the model\n",
    "history = model.fit(np.array(x_train), np.array(y_train), epochs=75)"
   ]
  },
  {
   "cell_type": "markdown",
   "metadata": {},
   "source": [
    "### Determine loss function, optimizer and metrics for the model"
   ]
  },
  {
   "cell_type": "code",
   "execution_count": 20,
   "metadata": {},
   "outputs": [
    {
     "data": {
      "image/png": "[encoded data removed]",
      "text/plain": [
       "<Figure size 432x288 with 1 Axes>"
      ]
     },
     "metadata": {
      "needs_background": "light"
     },
     "output_type": "display_data"
    }
   ],
   "source": [
    "plt.plot(history.history['acc'])\n",
    "plt.title('model loss by epoch')\n",
    "plt.xlabel('epoch')\n",
    "plt.ylabel('loss')\n",
    "plt.legend(['train', 'test'], loc='upper left')\n",
    "\n",
    "plt.show()"
   ]
  },
  {
   "cell_type": "markdown",
   "metadata": {},
   "source": [
    "## Logistic Regression"
   ]
  },
  {
   "cell_type": "code",
   "execution_count": 31,
   "metadata": {},
   "outputs": [
    {
     "data": {
      "text/plain": [
       "0.7760416666666666"
      ]
     },
     "execution_count": 31,
     "metadata": {},
     "output_type": "execute_result"
    }
   ],
   "source": [
    "standard_scaler = StandardScaler()\n",
    "x_scaled = standard_scaler.fit_transform(x)\n",
    "x_train, x_test, y_train, y_test = train_test_split(x_scaled, y, test_size = 0.25, random_state = 5)\n",
    "logreg = LogisticRegression()\n",
    "logreg.fit(x_train, y_train)\n",
    "y_pred = logreg.predict(x_test)\n",
    "accuracy_score(y_test, y_pred)"
   ]
  },
  {
   "cell_type": "markdown",
   "metadata": {},
   "source": [
    "### Compare the sequential nn model to logistic regression model\n",
    "- again they are very similar\n",
    "- NN model had 73% accuracy score\n",
    "- ML model had a 77% accuracy score\n",
    "- the accuracy of the ml is better than that of the nn model\n",
    "- the accuracy can be better with more epochs but I thought 75 was enough"
   ]
  }
 ],
 "metadata": {
  "kernelspec": {
   "display_name": "Python 3",
   "language": "python",
   "name": "python3"
  },
  "language_info": {
   "codemirror_mode": {
    "name": "ipython",
    "version": 3
   },
   "file_extension": ".py",
   "mimetype": "text/x-python",
   "name": "python",
   "nbconvert_exporter": "python",
   "pygments_lexer": "ipython3",
   "version": "3.7.3"
  }
 },
 "nbformat": 4,
 "nbformat_minor": 2
}
